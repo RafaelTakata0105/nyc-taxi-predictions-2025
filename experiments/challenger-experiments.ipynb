{
 "cells": [
  {
   "cell_type": "markdown",
   "id": "bdb65e80",
   "metadata": {},
   "source": [
    "### Challenger experiments\n",
    "---\n",
    "Libraries and preprocessing (the same as the previous notebooks)"
   ]
  },
  {
   "cell_type": "code",
   "execution_count": 171,
   "id": "94be287b",
   "metadata": {},
   "outputs": [],
   "source": [
    "import os\n",
    "import mlflow\n",
    "from dotenv import load_dotenv\n",
    "\n",
    "load_dotenv(override=True)\n",
    "EXPERIMENT_NAME = \"/Users/rafaeltakata0105@gmail.com/nyc-taxi-experiments\"\n",
    "\n",
    "mlflow.set_tracking_uri(\"databricks\")\n",
    "experiment = mlflow.set_experiment(experiment_name=EXPERIMENT_NAME)"
   ]
  },
  {
   "cell_type": "code",
   "execution_count": 172,
   "id": "dd116d72",
   "metadata": {},
   "outputs": [],
   "source": [
    "import pickle\n",
    "import pandas as pd\n",
    "from sklearn.metrics import  root_mean_squared_error\n",
    "from sklearn.feature_extraction import  DictVectorizer\n",
    "import optuna "
   ]
  },
  {
   "cell_type": "code",
   "execution_count": 173,
   "id": "f334556f",
   "metadata": {},
   "outputs": [],
   "source": [
    "def read_dataframe(path):\n",
    "    df = pd.read_parquet(path)\n",
    "    df[\"duration\"] = (df.lpep_dropoff_datetime - df.lpep_pickup_datetime).dt.total_seconds() / 60\n",
    "    df = df[(df.duration >= 1) & (df.duration <= 60)]\n",
    "    df[[\"PULocationID\", \"DOLocationID\"]] = df[[\"PULocationID\", \"DOLocationID\"]].astype(str)\n",
    "    df[\"PU_DO\"] = df[\"PULocationID\"] + \"_\" + df[\"DOLocationID\"]\n",
    "    return df"
   ]
  },
  {
   "cell_type": "code",
   "execution_count": 174,
   "id": "f310904e",
   "metadata": {},
   "outputs": [],
   "source": [
    "df_train = read_dataframe('../data/green_tripdata_2025-01.parquet')\n",
    "df_test = read_dataframe('../data/green_tripdata_2025-02.parquet')\n",
    "#We now validate the data with March\n",
    "df_val = read_dataframe('../data/green_tripdata_2025-03.parquet')"
   ]
  },
  {
   "cell_type": "code",
   "execution_count": 175,
   "id": "ea8cc2ac",
   "metadata": {},
   "outputs": [],
   "source": [
    "df_train['PU_DO'] = df_train['PULocationID'] + '_' + df_train['DOLocationID']\n",
    "categorical = ['PU_DO']\n",
    "numerical = ['trip_distance']\n",
    "dv = DictVectorizer()"
   ]
  },
  {
   "cell_type": "code",
   "execution_count": 176,
   "id": "f5e3e79f",
   "metadata": {},
   "outputs": [],
   "source": [
    "def preprocess(df, dv):\n",
    "    train_dicts = df[categorical + numerical].to_dict(orient='records')\n",
    "    return dv.transform(train_dicts)"
   ]
  },
  {
   "cell_type": "code",
   "execution_count": 177,
   "id": "4349e713",
   "metadata": {},
   "outputs": [],
   "source": [
    "dv = DictVectorizer()\n",
    "\n",
    "train_dicts = df_train[categorical + numerical].to_dict(orient='records')\n",
    "\n",
    "X_train = dv.fit_transform(train_dicts)\n",
    "X_test = preprocess(df_test, dv)\n",
    "X_val = preprocess(df_val, dv)"
   ]
  },
  {
   "cell_type": "code",
   "execution_count": 178,
   "id": "530dfd6a",
   "metadata": {},
   "outputs": [],
   "source": [
    "target = 'duration'\n",
    "\n",
    "y_train = df_train[target].values\n",
    "y_test = df_test[target].values\n",
    "y_val = df_val[target].values"
   ]
  },
  {
   "cell_type": "markdown",
   "id": "f28759a8",
   "metadata": {},
   "source": [
    "Log datasets"
   ]
  },
  {
   "cell_type": "code",
   "execution_count": 179,
   "id": "9549c217",
   "metadata": {},
   "outputs": [],
   "source": [
    "training_dataset = mlflow.data.from_numpy(X_train.data, targets=y_train, name=\"green_tripdata_2025-01\")\n",
    "test_dataset = mlflow.data.from_numpy(X_test.data, targets=y_test, name=\"green_tripdata_2025-02\")\n",
    "validation_dataset = mlflow.data.from_numpy(X_val.data, targets=y_val, name=\"green_tripdata_2025-03\")"
   ]
  },
  {
   "cell_type": "markdown",
   "id": "f6801263",
   "metadata": {},
   "source": [
    "### Model training:"
   ]
  },
  {
   "cell_type": "code",
   "execution_count": 180,
   "id": "28901960",
   "metadata": {},
   "outputs": [],
   "source": [
    "from sklearn.ensemble import RandomForestRegressor, GradientBoostingRegressor\n",
    "from mlflow.models.signature import infer_signature\n",
    "from optuna.samplers import TPESampler\n",
    "import pathlib\n",
    "import numpy as np\n",
    "from sklearn.metrics import root_mean_squared_error"
   ]
  },
  {
   "cell_type": "code",
   "execution_count": 181,
   "id": "b8622135",
   "metadata": {},
   "outputs": [],
   "source": [
    "rfr = RandomForestRegressor()\n",
    "gbr = GradientBoostingRegressor()"
   ]
  },
  {
   "cell_type": "markdown",
   "id": "101664e3",
   "metadata": {},
   "source": [
    "### Random Forest Regressor\n",
    "\n",
    "Objective Function:"
   ]
  },
  {
   "cell_type": "code",
   "execution_count": 182,
   "id": "4963fe5d",
   "metadata": {},
   "outputs": [],
   "source": [
    "# ------------------------------------------------------------\n",
    "# Definir la función objetivo para Optuna y MLflow\n",
    "# ------------------------------------------------------------\n",
    "def objective(trial: optuna.trial.Trial):\n",
    "    # 1. Hiperparámetros MUESTREADOS por Optuna\n",
    "    params = {\n",
    "        # n_estimators: número de árboles\n",
    "        \"n_estimators\": trial.suggest_int(\"n_estimators\", 50, 500, step=50),\n",
    "        # max_depth: profundidad máxima del árbol\n",
    "        \"max_depth\": trial.suggest_int(\"max_depth\", 5, 50),\n",
    "        # min_samples_split: min muestras para dividir un nodo\n",
    "        \"min_samples_split\": trial.suggest_int(\"min_samples_split\", 2, 20),\n",
    "        # min_samples_leaf: min muestras en una hoja\n",
    "        \"min_samples_leaf\": trial.suggest_int(\"min_samples_leaf\", 1, 10),\n",
    "        # max_features: características a considerar para la mejor división\n",
    "        \"max_features\": trial.suggest_float(\"max_features\", 0.1, 1.0, log=False),\n",
    "        \"random_state\": 42,\n",
    "        \"n_jobs\": -1,\n",
    "    }\n",
    "\n",
    "    # 2. Run anidado para registrar cada trial en MLflow\n",
    "    with mlflow.start_run(nested=True):\n",
    "        mlflow.set_tag(\"model_family\", \"random_forest_regressor\")\n",
    "        mlflow.log_params(params)\n",
    "\n",
    "        # 3. Crear y Entrenar el Modelo\n",
    "        model = RandomForestRegressor(**params)\n",
    "        model.fit(X_train, y_train)\n",
    "\n",
    "        # 4. Predicción y Métrica en Validación\n",
    "        y_pred = model.predict(X_test)\n",
    "        # Usaremos el RMSE, que es la raíz cuadrada del MSE\n",
    "        rmse = root_mean_squared_error(y_test, y_pred)\n",
    "\n",
    "        # 5. Registrar la métrica principal\n",
    "        mlflow.log_metric(\"rmse\", rmse)\n",
    "        \n",
    "        # 6. Guardar el modelo del trial (incluye la firma y un ejemplo de entrada)\n",
    "        \n",
    "        # Crear la \"signature\"\n",
    "        signature = infer_signature(X_test, y_pred)\n",
    "        \n",
    "        mlflow.sklearn.log_model(\n",
    "            sk_model=model,\n",
    "            artifact_path=\"model\",\n",
    "            input_example=X_test[:5],\n",
    "            signature=signature,\n",
    "            # Le pasamos el trial de Optuna para que MLflow lo registre como un Tag\n",
    "            metadata={\"optuna.trial_id\": trial.number} \n",
    "        )\n",
    "\n",
    "    # Optuna minimiza el valor retornado\n",
    "    return rmse"
   ]
  },
  {
   "cell_type": "markdown",
   "id": "2f8e9050",
   "metadata": {},
   "source": [
    "Study run:"
   ]
  },
  {
   "cell_type": "code",
   "execution_count": 183,
   "id": "0d15e590",
   "metadata": {},
   "outputs": [
    {
     "name": "stderr",
     "output_type": "stream",
     "text": [
      "[I 2025-10-25 17:15:04,647] A new study created in memory with name: no-name-c9ff885a-5922-4473-a578-76f2c6014b2e\n",
      "2025/10/25 17:15:21 WARNING mlflow.models.model: `artifact_path` is deprecated. Please use `name` instead.\n",
      "2025/10/25 17:15:33 WARNING mlflow.utils.environment: Failed to resolve installed pip version. ``pip`` will be added to conda.yaml environment spec without a version specifier.\n"
     ]
    },
    {
     "data": {
      "application/vnd.jupyter.widget-view+json": {
       "model_id": "30be648798664d5e84c9f89230d20d6c",
       "version_major": 2,
       "version_minor": 0
      },
      "text/plain": [
       "Downloading artifacts:   0%|          | 0/7 [00:00<?, ?it/s]"
      ]
     },
     "metadata": {},
     "output_type": "display_data"
    },
    {
     "name": "stderr",
     "output_type": "stream",
     "text": [
      "2025/10/25 17:15:34 INFO mlflow.models.model: Found the following environment variables used during model inference: [DATABRICKS_HOST, DATABRICKS_TOKEN]. Please check if you need to set them when deploying the model. To disable this message, set environment variable `MLFLOW_RECORD_ENV_VARS_IN_MODEL_LOGGING` to `false`.\n",
      "[I 2025-10-25 17:16:17,230] Trial 0 finished with value: 5.443526012385376 and parameters: {'n_estimators': 200, 'max_depth': 48, 'min_samples_split': 15, 'min_samples_leaf': 6, 'max_features': 0.24041677639819287}. Best is trial 0 with value: 5.443526012385376.\n"
     ]
    },
    {
     "name": "stdout",
     "output_type": "stream",
     "text": [
      "🏃 View run funny-slug-308 at: https://dbc-79ec72f9-c392.cloud.databricks.com/ml/experiments/530562432550975/runs/92b66d3a308f4ec79ec808b2daf29be0\n",
      "🧪 View experiment at: https://dbc-79ec72f9-c392.cloud.databricks.com/ml/experiments/530562432550975\n"
     ]
    },
    {
     "name": "stderr",
     "output_type": "stream",
     "text": [
      "2025/10/25 17:16:23 WARNING mlflow.models.model: `artifact_path` is deprecated. Please use `name` instead.\n",
      "2025/10/25 17:16:28 WARNING mlflow.utils.environment: Failed to resolve installed pip version. ``pip`` will be added to conda.yaml environment spec without a version specifier.\n"
     ]
    },
    {
     "data": {
      "application/vnd.jupyter.widget-view+json": {
       "model_id": "e8ec289ae7a6443497571d2ddeadaba2",
       "version_major": 2,
       "version_minor": 0
      },
      "text/plain": [
       "Downloading artifacts:   0%|          | 0/7 [00:00<?, ?it/s]"
      ]
     },
     "metadata": {},
     "output_type": "display_data"
    },
    {
     "name": "stderr",
     "output_type": "stream",
     "text": [
      "2025/10/25 17:16:29 INFO mlflow.models.model: Found the following environment variables used during model inference: [DATABRICKS_HOST, DATABRICKS_TOKEN]. Please check if you need to set them when deploying the model. To disable this message, set environment variable `MLFLOW_RECORD_ENV_VARS_IN_MODEL_LOGGING` to `false`.\n",
      "[I 2025-10-25 17:16:31,876] Trial 1 finished with value: 5.607836371190919 and parameters: {'n_estimators': 100, 'max_depth': 7, 'min_samples_split': 18, 'min_samples_leaf': 7, 'max_features': 0.737265320016441}. Best is trial 0 with value: 5.443526012385376.\n"
     ]
    },
    {
     "name": "stdout",
     "output_type": "stream",
     "text": [
      "🏃 View run handsome-lark-959 at: https://dbc-79ec72f9-c392.cloud.databricks.com/ml/experiments/530562432550975/runs/a8fb60609d7445308cebcf26d73a52d8\n",
      "🧪 View experiment at: https://dbc-79ec72f9-c392.cloud.databricks.com/ml/experiments/530562432550975\n"
     ]
    },
    {
     "name": "stderr",
     "output_type": "stream",
     "text": [
      "2025/10/25 17:16:38 WARNING mlflow.models.model: `artifact_path` is deprecated. Please use `name` instead.\n",
      "2025/10/25 17:16:44 WARNING mlflow.utils.environment: Failed to resolve installed pip version. ``pip`` will be added to conda.yaml environment spec without a version specifier.\n"
     ]
    },
    {
     "data": {
      "application/vnd.jupyter.widget-view+json": {
       "model_id": "4ed9dc8c0bf545919b79782dd94c3c32",
       "version_major": 2,
       "version_minor": 0
      },
      "text/plain": [
       "Downloading artifacts:   0%|          | 0/7 [00:00<?, ?it/s]"
      ]
     },
     "metadata": {},
     "output_type": "display_data"
    },
    {
     "name": "stderr",
     "output_type": "stream",
     "text": [
      "2025/10/25 17:16:44 INFO mlflow.models.model: Found the following environment variables used during model inference: [DATABRICKS_HOST, DATABRICKS_TOKEN]. Please check if you need to set them when deploying the model. To disable this message, set environment variable `MLFLOW_RECORD_ENV_VARS_IN_MODEL_LOGGING` to `false`.\n",
      "[I 2025-10-25 17:17:00,497] Trial 2 finished with value: 5.344099250244436 and parameters: {'n_estimators': 50, 'max_depth': 49, 'min_samples_split': 17, 'min_samples_leaf': 3, 'max_features': 0.26364247048639056}. Best is trial 2 with value: 5.344099250244436.\n"
     ]
    },
    {
     "name": "stdout",
     "output_type": "stream",
     "text": [
      "🏃 View run victorious-skink-133 at: https://dbc-79ec72f9-c392.cloud.databricks.com/ml/experiments/530562432550975/runs/5a016626331f4816acdea4e2b071f9af\n",
      "🧪 View experiment at: https://dbc-79ec72f9-c392.cloud.databricks.com/ml/experiments/530562432550975\n"
     ]
    },
    {
     "name": "stderr",
     "output_type": "stream",
     "text": [
      "2025/10/25 17:17:06 WARNING mlflow.models.model: `artifact_path` is deprecated. Please use `name` instead.\n",
      "2025/10/25 17:17:12 WARNING mlflow.utils.environment: Failed to resolve installed pip version. ``pip`` will be added to conda.yaml environment spec without a version specifier.\n"
     ]
    },
    {
     "data": {
      "application/vnd.jupyter.widget-view+json": {
       "model_id": "37d022503f2848c69e4fcbd25f1e0c00",
       "version_major": 2,
       "version_minor": 0
      },
      "text/plain": [
       "Downloading artifacts:   0%|          | 0/7 [00:00<?, ?it/s]"
      ]
     },
     "metadata": {},
     "output_type": "display_data"
    },
    {
     "name": "stderr",
     "output_type": "stream",
     "text": [
      "2025/10/25 17:17:13 INFO mlflow.models.model: Found the following environment variables used during model inference: [DATABRICKS_HOST, DATABRICKS_TOKEN]. Please check if you need to set them when deploying the model. To disable this message, set environment variable `MLFLOW_RECORD_ENV_VARS_IN_MODEL_LOGGING` to `false`.\n",
      "[I 2025-10-25 17:17:25,650] Trial 3 finished with value: 5.478119002140051 and parameters: {'n_estimators': 100, 'max_depth': 18, 'min_samples_split': 11, 'min_samples_leaf': 5, 'max_features': 0.36210622617823773}. Best is trial 2 with value: 5.344099250244436.\n"
     ]
    },
    {
     "name": "stdout",
     "output_type": "stream",
     "text": [
      "🏃 View run painted-trout-81 at: https://dbc-79ec72f9-c392.cloud.databricks.com/ml/experiments/530562432550975/runs/3f8b69c516c2437eb515958e202fad9a\n",
      "🧪 View experiment at: https://dbc-79ec72f9-c392.cloud.databricks.com/ml/experiments/530562432550975\n"
     ]
    },
    {
     "name": "stderr",
     "output_type": "stream",
     "text": [
      "2025/10/25 17:17:35 WARNING mlflow.models.model: `artifact_path` is deprecated. Please use `name` instead.\n",
      "2025/10/25 17:17:40 WARNING mlflow.utils.environment: Failed to resolve installed pip version. ``pip`` will be added to conda.yaml environment spec without a version specifier.\n"
     ]
    },
    {
     "data": {
      "application/vnd.jupyter.widget-view+json": {
       "model_id": "6ef2745daca441d389e710c7bcc315cd",
       "version_major": 2,
       "version_minor": 0
      },
      "text/plain": [
       "Downloading artifacts:   0%|          | 0/7 [00:00<?, ?it/s]"
      ]
     },
     "metadata": {},
     "output_type": "display_data"
    },
    {
     "name": "stderr",
     "output_type": "stream",
     "text": [
      "2025/10/25 17:17:41 INFO mlflow.models.model: Found the following environment variables used during model inference: [DATABRICKS_HOST, DATABRICKS_TOKEN]. Please check if you need to set them when deploying the model. To disable this message, set environment variable `MLFLOW_RECORD_ENV_VARS_IN_MODEL_LOGGING` to `false`.\n",
      "[I 2025-10-25 17:18:00,695] Trial 4 finished with value: 5.540601532065293 and parameters: {'n_estimators': 350, 'max_depth': 11, 'min_samples_split': 7, 'min_samples_leaf': 4, 'max_features': 0.5104629857953323}. Best is trial 2 with value: 5.344099250244436.\n"
     ]
    },
    {
     "name": "stdout",
     "output_type": "stream",
     "text": [
      "🏃 View run skillful-wasp-193 at: https://dbc-79ec72f9-c392.cloud.databricks.com/ml/experiments/530562432550975/runs/a4cbe876378e45aa86237d7ea5417f37\n",
      "🧪 View experiment at: https://dbc-79ec72f9-c392.cloud.databricks.com/ml/experiments/530562432550975\n"
     ]
    },
    {
     "name": "stderr",
     "output_type": "stream",
     "text": [
      "2025/10/25 17:18:09 WARNING mlflow.models.model: `artifact_path` is deprecated. Please use `name` instead.\n",
      "2025/10/25 17:18:14 WARNING mlflow.utils.environment: Failed to resolve installed pip version. ``pip`` will be added to conda.yaml environment spec without a version specifier.\n"
     ]
    },
    {
     "data": {
      "application/vnd.jupyter.widget-view+json": {
       "model_id": "83a9f31016ec439eb3587d08c0be8b45",
       "version_major": 2,
       "version_minor": 0
      },
      "text/plain": [
       "Downloading artifacts:   0%|          | 0/7 [00:00<?, ?it/s]"
      ]
     },
     "metadata": {},
     "output_type": "display_data"
    },
    {
     "name": "stderr",
     "output_type": "stream",
     "text": [
      "2025/10/25 17:18:15 INFO mlflow.models.model: Found the following environment variables used during model inference: [DATABRICKS_HOST, DATABRICKS_TOKEN]. Please check if you need to set them when deploying the model. To disable this message, set environment variable `MLFLOW_RECORD_ENV_VARS_IN_MODEL_LOGGING` to `false`.\n",
      "[I 2025-10-25 17:18:38,463] Trial 5 finished with value: 6.082324007237481 and parameters: {'n_estimators': 400, 'max_depth': 14, 'min_samples_split': 11, 'min_samples_leaf': 6, 'max_features': 0.14180537144799796}. Best is trial 2 with value: 5.344099250244436.\n"
     ]
    },
    {
     "name": "stdout",
     "output_type": "stream",
     "text": [
      "🏃 View run wistful-quail-219 at: https://dbc-79ec72f9-c392.cloud.databricks.com/ml/experiments/530562432550975/runs/cff6dfa35bac43baaf63f535544cdf92\n",
      "🧪 View experiment at: https://dbc-79ec72f9-c392.cloud.databricks.com/ml/experiments/530562432550975\n"
     ]
    },
    {
     "name": "stderr",
     "output_type": "stream",
     "text": [
      "2025/10/25 17:18:51 WARNING mlflow.models.model: `artifact_path` is deprecated. Please use `name` instead.\n",
      "2025/10/25 17:18:56 WARNING mlflow.utils.environment: Failed to resolve installed pip version. ``pip`` will be added to conda.yaml environment spec without a version specifier.\n"
     ]
    },
    {
     "data": {
      "application/vnd.jupyter.widget-view+json": {
       "model_id": "cf61802c323044b485567785851d783b",
       "version_major": 2,
       "version_minor": 0
      },
      "text/plain": [
       "Downloading artifacts:   0%|          | 0/7 [00:00<?, ?it/s]"
      ]
     },
     "metadata": {},
     "output_type": "display_data"
    },
    {
     "name": "stderr",
     "output_type": "stream",
     "text": [
      "2025/10/25 17:18:57 INFO mlflow.models.model: Found the following environment variables used during model inference: [DATABRICKS_HOST, DATABRICKS_TOKEN]. Please check if you need to set them when deploying the model. To disable this message, set environment variable `MLFLOW_RECORD_ENV_VARS_IN_MODEL_LOGGING` to `false`.\n",
      "[I 2025-10-25 17:19:18,500] Trial 6 finished with value: 5.584261779348117 and parameters: {'n_estimators': 350, 'max_depth': 12, 'min_samples_split': 3, 'min_samples_leaf': 10, 'max_features': 0.9690688297671034}. Best is trial 2 with value: 5.344099250244436.\n"
     ]
    },
    {
     "name": "stdout",
     "output_type": "stream",
     "text": [
      "🏃 View run puzzled-asp-934 at: https://dbc-79ec72f9-c392.cloud.databricks.com/ml/experiments/530562432550975/runs/07249705b8dc4fff80ef7bd6e5403399\n",
      "🧪 View experiment at: https://dbc-79ec72f9-c392.cloud.databricks.com/ml/experiments/530562432550975\n"
     ]
    },
    {
     "name": "stderr",
     "output_type": "stream",
     "text": [
      "2025/10/25 17:19:34 WARNING mlflow.models.model: `artifact_path` is deprecated. Please use `name` instead.\n",
      "2025/10/25 17:19:39 WARNING mlflow.utils.environment: Failed to resolve installed pip version. ``pip`` will be added to conda.yaml environment spec without a version specifier.\n"
     ]
    },
    {
     "data": {
      "application/vnd.jupyter.widget-view+json": {
       "model_id": "3c72b663dc3b4056b5496d32ead8dfb2",
       "version_major": 2,
       "version_minor": 0
      },
      "text/plain": [
       "Downloading artifacts:   0%|          | 0/7 [00:00<?, ?it/s]"
      ]
     },
     "metadata": {},
     "output_type": "display_data"
    },
    {
     "name": "stderr",
     "output_type": "stream",
     "text": [
      "2025/10/25 17:19:40 INFO mlflow.models.model: Found the following environment variables used during model inference: [DATABRICKS_HOST, DATABRICKS_TOKEN]. Please check if you need to set them when deploying the model. To disable this message, set environment variable `MLFLOW_RECORD_ENV_VARS_IN_MODEL_LOGGING` to `false`.\n",
      "[I 2025-10-25 17:20:25,178] Trial 7 finished with value: 5.493096242328059 and parameters: {'n_estimators': 450, 'max_depth': 19, 'min_samples_split': 3, 'min_samples_leaf': 7, 'max_features': 0.4961372443656412}. Best is trial 2 with value: 5.344099250244436.\n"
     ]
    },
    {
     "name": "stdout",
     "output_type": "stream",
     "text": [
      "🏃 View run illustrious-skunk-1 at: https://dbc-79ec72f9-c392.cloud.databricks.com/ml/experiments/530562432550975/runs/3f469e3686b74471931ec5ed17469429\n",
      "🧪 View experiment at: https://dbc-79ec72f9-c392.cloud.databricks.com/ml/experiments/530562432550975\n"
     ]
    },
    {
     "name": "stderr",
     "output_type": "stream",
     "text": [
      "2025/10/25 17:20:31 WARNING mlflow.models.model: `artifact_path` is deprecated. Please use `name` instead.\n",
      "2025/10/25 17:20:36 WARNING mlflow.utils.environment: Failed to resolve installed pip version. ``pip`` will be added to conda.yaml environment spec without a version specifier.\n"
     ]
    },
    {
     "data": {
      "application/vnd.jupyter.widget-view+json": {
       "model_id": "54bbe2d4cd4f4f779bde15f27e90d896",
       "version_major": 2,
       "version_minor": 0
      },
      "text/plain": [
       "Downloading artifacts:   0%|          | 0/7 [00:00<?, ?it/s]"
      ]
     },
     "metadata": {},
     "output_type": "display_data"
    },
    {
     "name": "stderr",
     "output_type": "stream",
     "text": [
      "2025/10/25 17:20:37 INFO mlflow.models.model: Found the following environment variables used during model inference: [DATABRICKS_HOST, DATABRICKS_TOKEN]. Please check if you need to set them when deploying the model. To disable this message, set environment variable `MLFLOW_RECORD_ENV_VARS_IN_MODEL_LOGGING` to `false`.\n",
      "[I 2025-10-25 17:20:49,315] Trial 8 finished with value: 5.5123146490637644 and parameters: {'n_estimators': 100, 'max_depth': 27, 'min_samples_split': 2, 'min_samples_leaf': 10, 'max_features': 0.3329019834400152}. Best is trial 2 with value: 5.344099250244436.\n"
     ]
    },
    {
     "name": "stdout",
     "output_type": "stream",
     "text": [
      "🏃 View run sneaky-sponge-971 at: https://dbc-79ec72f9-c392.cloud.databricks.com/ml/experiments/530562432550975/runs/1757317e4834426986f962bf98314b97\n",
      "🧪 View experiment at: https://dbc-79ec72f9-c392.cloud.databricks.com/ml/experiments/530562432550975\n"
     ]
    },
    {
     "name": "stderr",
     "output_type": "stream",
     "text": [
      "2025/10/25 17:20:58 WARNING mlflow.models.model: `artifact_path` is deprecated. Please use `name` instead.\n",
      "2025/10/25 17:21:04 WARNING mlflow.utils.environment: Failed to resolve installed pip version. ``pip`` will be added to conda.yaml environment spec without a version specifier.\n"
     ]
    },
    {
     "data": {
      "application/vnd.jupyter.widget-view+json": {
       "model_id": "018446bf160d4d64acb0ade6f4bc6901",
       "version_major": 2,
       "version_minor": 0
      },
      "text/plain": [
       "Downloading artifacts:   0%|          | 0/7 [00:00<?, ?it/s]"
      ]
     },
     "metadata": {},
     "output_type": "display_data"
    },
    {
     "name": "stderr",
     "output_type": "stream",
     "text": [
      "2025/10/25 17:21:04 INFO mlflow.models.model: Found the following environment variables used during model inference: [DATABRICKS_HOST, DATABRICKS_TOKEN]. Please check if you need to set them when deploying the model. To disable this message, set environment variable `MLFLOW_RECORD_ENV_VARS_IN_MODEL_LOGGING` to `false`.\n",
      "[I 2025-10-25 17:21:37,084] Trial 9 finished with value: 5.514804345153128 and parameters: {'n_estimators': 350, 'max_depth': 19, 'min_samples_split': 11, 'min_samples_leaf': 6, 'max_features': 0.26636900997297436}. Best is trial 2 with value: 5.344099250244436.\n"
     ]
    },
    {
     "name": "stdout",
     "output_type": "stream",
     "text": [
      "🏃 View run youthful-mouse-627 at: https://dbc-79ec72f9-c392.cloud.databricks.com/ml/experiments/530562432550975/runs/2d80610d39094c8baf27f1d0b8ce39c1\n",
      "🧪 View experiment at: https://dbc-79ec72f9-c392.cloud.databricks.com/ml/experiments/530562432550975\n",
      "\n",
      "Mejor RMSE encontrado: 5.3441\n",
      "Mejores Parámetros: {'n_estimators': 50, 'max_depth': 49, 'min_samples_split': 17, 'min_samples_leaf': 3, 'max_features': 0.26364247048639056}\n",
      "\n",
      "Entrenando y registrando el modelo final con los mejores parámetros...\n"
     ]
    },
    {
     "name": "stderr",
     "output_type": "stream",
     "text": [
      "2025/10/25 17:21:56 WARNING mlflow.utils.environment: Failed to resolve installed pip version. ``pip`` will be added to conda.yaml environment spec without a version specifier.\n"
     ]
    },
    {
     "data": {
      "application/vnd.jupyter.widget-view+json": {
       "model_id": "dfa8a79ef16c48c89fdc9174f9c59c36",
       "version_major": 2,
       "version_minor": 0
      },
      "text/plain": [
       "Downloading artifacts:   0%|          | 0/7 [00:00<?, ?it/s]"
      ]
     },
     "metadata": {},
     "output_type": "display_data"
    },
    {
     "name": "stderr",
     "output_type": "stream",
     "text": [
      "2025/10/25 17:21:56 INFO mlflow.models.model: Found the following environment variables used during model inference: [DATABRICKS_HOST, DATABRICKS_TOKEN]. Please check if you need to set them when deploying the model. To disable this message, set environment variable `MLFLOW_RECORD_ENV_VARS_IN_MODEL_LOGGING` to `false`.\n"
     ]
    },
    {
     "name": "stdout",
     "output_type": "stream",
     "text": [
      "Modelo final registrado en MLflow.\n",
      "🏃 View run Random Forest Regressor Optuna Tuning at: https://dbc-79ec72f9-c392.cloud.databricks.com/ml/experiments/530562432550975/runs/0f4d83ee81c240929dbba8f74c281aad\n",
      "🧪 View experiment at: https://dbc-79ec72f9-c392.cloud.databricks.com/ml/experiments/530562432550975\n"
     ]
    }
   ],
   "source": [
    "# ------------------------------------------------------------\n",
    "# Configurar y Ejecutar la Optimización de Optuna\n",
    "# ------------------------------------------------------------\n",
    "\n",
    "sampler = TPESampler(seed=42)\n",
    "# direction=\"minimize\" porque queremos minimizar el RMSE\n",
    "study = optuna.create_study(direction=\"minimize\", sampler=sampler) \n",
    "\n",
    "# Run \"padre\" para agrupar toda la búsqueda de Optuna\n",
    "with mlflow.start_run(run_name=\"Random Forest Regressor Optuna Tuning\"):\n",
    "    study.optimize(objective, n_trials=10) # Reducido a 20 por ser un ejemplo\n",
    "    \n",
    "    # --------------------------------------------------------\n",
    "    # Registrar los mejores resultados en el run \"padre\"\n",
    "    # --------------------------------------------------------\n",
    "    best_params = study.best_params\n",
    "    best_rmse = study.best_value\n",
    "    \n",
    "    # Registrar métricas y parámetros finales en el run padre\n",
    "    mlflow.log_params(best_params)\n",
    "\n",
    "    mlflow.set_tags({\n",
    "        \"project\": \"NYC Taxi Time Prediction Project\",\n",
    "        \"optimizer_engine\": \"optuna\",\n",
    "        \"model_family\": \"RandomForestRegressor\",\n",
    "        \"feature_set_version\": 1,\n",
    "    })\n",
    "\n",
    "    mlflow.log_metric(\"best_rmse_test\", best_rmse)\n",
    "\n",
    "    pathlib.Path(\"preprocessor\").mkdir(exist_ok=True)\n",
    "    with open(\"preprocessor/preprocessor.b\", \"wb\") as f_out:\n",
    "        pickle.dump(dv, f_out)\n",
    "\n",
    "    mlflow.log_artifact(\"preprocessor/preprocessor.b\", artifact_path=\"preprocessor\")\n",
    "    \n",
    "    print(f\"\\nMejor RMSE encontrado: {best_rmse:.4f}\")\n",
    "    print(\"Mejores Parámetros:\", best_params)\n",
    "\n",
    "    # --------------------------------------------------------\n",
    "    # Reentrenar y registrar el modelo FINAL\n",
    "    # --------------------------------------------------------\n",
    "    print(\"\\nEntrenando y registrando el modelo final con los mejores parámetros...\")\n",
    "    final_model = RandomForestRegressor(**best_params)\n",
    "    final_model.fit(X_train, y_train)\n",
    "\n",
    "    # Predicción y registro de métrica final\n",
    "    y_pred = final_model.predict(X_val)\n",
    "    final_rmse = root_mean_squared_error(y_val, y_pred)\n",
    "\n",
    "    # Guardar el modelo final de forma explícita en el run padre\n",
    "    signature = infer_signature(X_val, y_pred)\n",
    "\n",
    "    mlflow.sklearn.log_model(\n",
    "        sk_model=final_model,\n",
    "        name=\"model\",\n",
    "        input_example=X_val[:5],\n",
    "        signature=signature,\n",
    "        # Opcional: Registrar en el Model Registry\n",
    "        # registered_model_name=\"RandomForestRegressor_Optimized\",\n",
    "    )\n",
    "    mlflow.log_metric(\"validation-rmse\", final_rmse)\n",
    "    print(\"Modelo final registrado en MLflow.\")"
   ]
  },
  {
   "cell_type": "markdown",
   "id": "750ae695",
   "metadata": {},
   "source": [
    "Register the model\n",
    " (Manual method)"
   ]
  },
  {
   "cell_type": "code",
   "execution_count": 184,
   "id": "398d05bc",
   "metadata": {},
   "outputs": [
    {
     "name": "stderr",
     "output_type": "stream",
     "text": [
      "Registered model 'workspace.default.nyc-taxi-model' already exists. Creating a new version of this model...\n",
      "2025/10/25 17:22:33 WARNING mlflow.tracking._model_registry.fluent: Run with id 0f4d83ee81c240929dbba8f74c281aad has no artifacts at artifact path 'model', registering model based on models:/m-6e563e8f282942fd8efa4d781f317d6e instead\n"
     ]
    },
    {
     "data": {
      "application/vnd.jupyter.widget-view+json": {
       "model_id": "ceaab6f01f24495b981983289feb79e2",
       "version_major": 2,
       "version_minor": 0
      },
      "text/plain": [
       "Downloading artifacts:   0%|          | 0/8 [00:00<?, ?it/s]"
      ]
     },
     "metadata": {},
     "output_type": "display_data"
    },
    {
     "data": {
      "application/vnd.jupyter.widget-view+json": {
       "model_id": "0ed24baf6dc3403b89081b3d0c291257",
       "version_major": 2,
       "version_minor": 0
      },
      "text/plain": [
       "Uploading artifacts:   0%|          | 0/9 [00:00<?, ?it/s]"
      ]
     },
     "metadata": {},
     "output_type": "display_data"
    },
    {
     "name": "stderr",
     "output_type": "stream",
     "text": [
      "Created version '7' of model 'workspace.default.nyc-taxi-model'.\n"
     ]
    }
   ],
   "source": [
    "run_id = input(\"Ingrese el run_id\")\n",
    "run_uri = f\"runs:/{run_id}/model\"\n",
    "\n",
    "result = mlflow.register_model(\n",
    "    model_uri=run_uri,\n",
    "    name=\"workspace.default.nyc-taxi-model\"\n",
    ")"
   ]
  },
  {
   "cell_type": "markdown",
   "id": "e2928123",
   "metadata": {},
   "source": [
    "### Gradient Boosting Regressor\n",
    "\n",
    "Objective function:"
   ]
  },
  {
   "cell_type": "code",
   "execution_count": 185,
   "id": "7e2d4282",
   "metadata": {},
   "outputs": [],
   "source": [
    "# ------------------------------------------------------------\n",
    "# Definir la función objetivo para Optuna y MLflow\n",
    "# ------------------------------------------------------------\n",
    "def objective(trial: optuna.trial.Trial):\n",
    "    # 1. Hiperparámetros MUESTREADOS por Optuna\n",
    "    params = {\n",
    "        # n_estimators (número de etapas de boosting)\n",
    "        \"n_estimators\": trial.suggest_int(\"n_estimators\", 50, 500, step=50),\n",
    "        # learning_rate (tasa de aprendizaje, logarítmica para exploración eficiente)\n",
    "        \"learning_rate\": trial.suggest_float(\"learning_rate\", 1e-3, 0.5, log=True),\n",
    "        # max_depth (profundidad máxima de cada estimador)\n",
    "        \"max_depth\": trial.suggest_int(\"max_depth\", 3, 15),\n",
    "        # min_samples_split\n",
    "        \"min_samples_split\": trial.suggest_int(\"min_samples_split\", 2, 20),\n",
    "        # min_samples_leaf\n",
    "        \"min_samples_leaf\": trial.suggest_int(\"min_samples_leaf\", 1, 10),\n",
    "        # subsample (fracción de muestras usadas para ajustar los estimadores individuales)\n",
    "        \"subsample\": trial.suggest_float(\"subsample\", 0.6, 1.0),\n",
    "        # max_features (características a considerar para la mejor división)\n",
    "        \"max_features\": trial.suggest_categorical(\"max_features\", ['sqrt', 'log2', None]),\n",
    "        \"random_state\": 42,\n",
    "    }\n",
    "\n",
    "    # 2. Run anidado para registrar cada trial en MLflow\n",
    "    with mlflow.start_run(nested=True):\n",
    "        mlflow.set_tag(\"model_family\", \"Gradient_boosting_regressor\")\n",
    "        mlflow.log_params(params)\n",
    "\n",
    "        # 3. Crear y Entrenar el Modelo\n",
    "        model = GradientBoostingRegressor(**params)\n",
    "        model.fit(X_train, y_train)\n",
    "\n",
    "        # 4. Predicción y Métrica en Validación\n",
    "        y_pred = model.predict(X_test)\n",
    "        # Usaremos el RMSE, que es la raíz cuadrada del MSE\n",
    "        rmse = root_mean_squared_error(y_test, y_pred)\n",
    "\n",
    "        # 5. Registrar la métrica principal\n",
    "        mlflow.log_metric(\"rmse\", rmse)\n",
    "        \n",
    "        # 6. Guardar el modelo del trial (incluye la firma y un ejemplo de entrada)\n",
    "        \n",
    "        # Crear la \"signature\"\n",
    "        signature = infer_signature(X_test, y_pred)\n",
    "        \n",
    "        mlflow.sklearn.log_model(\n",
    "            sk_model=model,\n",
    "            artifact_path=\"model\",\n",
    "            input_example=X_test[:5],\n",
    "            signature=signature,\n",
    "            # Le pasamos el trial de Optuna para que MLflow lo registre como un Tag\n",
    "            metadata={\"optuna.trial_id\": trial.number} \n",
    "        )\n",
    "\n",
    "    # Optuna minimiza el valor retornado\n",
    "    return rmse"
   ]
  },
  {
   "cell_type": "markdown",
   "id": "f5134c98",
   "metadata": {},
   "source": [
    "Study Optimization Runs"
   ]
  },
  {
   "cell_type": "code",
   "execution_count": 186,
   "id": "c02400f9",
   "metadata": {},
   "outputs": [
    {
     "name": "stderr",
     "output_type": "stream",
     "text": [
      "[I 2025-10-25 17:22:44,412] A new study created in memory with name: no-name-6c2861d1-40e1-4a99-ac94-caf3005184ee\n",
      "2025/10/25 17:22:52 WARNING mlflow.models.model: `artifact_path` is deprecated. Please use `name` instead.\n",
      "2025/10/25 17:22:57 WARNING mlflow.utils.environment: Failed to resolve installed pip version. ``pip`` will be added to conda.yaml environment spec without a version specifier.\n"
     ]
    },
    {
     "data": {
      "application/vnd.jupyter.widget-view+json": {
       "model_id": "d89cc97f92864440a09611150150a407",
       "version_major": 2,
       "version_minor": 0
      },
      "text/plain": [
       "Downloading artifacts:   0%|          | 0/7 [00:00<?, ?it/s]"
      ]
     },
     "metadata": {},
     "output_type": "display_data"
    },
    {
     "name": "stderr",
     "output_type": "stream",
     "text": [
      "2025/10/25 17:22:58 INFO mlflow.models.model: Found the following environment variables used during model inference: [DATABRICKS_HOST, DATABRICKS_TOKEN]. Please check if you need to set them when deploying the model. To disable this message, set environment variable `MLFLOW_RECORD_ENV_VARS_IN_MODEL_LOGGING` to `false`.\n",
      "[I 2025-10-25 17:23:00,874] Trial 0 finished with value: 5.5583158005865165 and parameters: {'n_estimators': 200, 'learning_rate': 0.36808608148776095, 'max_depth': 12, 'min_samples_split': 13, 'min_samples_leaf': 2, 'subsample': 0.662397808134481, 'max_features': 'log2'}. Best is trial 0 with value: 5.5583158005865165.\n"
     ]
    },
    {
     "name": "stdout",
     "output_type": "stream",
     "text": [
      "🏃 View run adaptable-deer-326 at: https://dbc-79ec72f9-c392.cloud.databricks.com/ml/experiments/530562432550975/runs/c52575bdebe6436d9e78b1bf0ee5267a\n",
      "🧪 View experiment at: https://dbc-79ec72f9-c392.cloud.databricks.com/ml/experiments/530562432550975\n"
     ]
    },
    {
     "name": "stderr",
     "output_type": "stream",
     "text": [
      "2025/10/25 17:24:20 WARNING mlflow.models.model: `artifact_path` is deprecated. Please use `name` instead.\n",
      "2025/10/25 17:24:27 WARNING mlflow.utils.environment: Failed to resolve installed pip version. ``pip`` will be added to conda.yaml environment spec without a version specifier.\n"
     ]
    },
    {
     "data": {
      "application/vnd.jupyter.widget-view+json": {
       "model_id": "2a8eb144eadd46dabd35bca1681a1fc6",
       "version_major": 2,
       "version_minor": 0
      },
      "text/plain": [
       "Downloading artifacts:   0%|          | 0/7 [00:00<?, ?it/s]"
      ]
     },
     "metadata": {},
     "output_type": "display_data"
    },
    {
     "name": "stderr",
     "output_type": "stream",
     "text": [
      "2025/10/25 17:24:27 INFO mlflow.models.model: Found the following environment variables used during model inference: [DATABRICKS_HOST, DATABRICKS_TOKEN]. Please check if you need to set them when deploying the model. To disable this message, set environment variable `MLFLOW_RECORD_ENV_VARS_IN_MODEL_LOGGING` to `false`.\n",
      "[I 2025-10-25 17:25:00,706] Trial 1 finished with value: 7.211518600238097 and parameters: {'n_estimators': 400, 'learning_rate': 0.001136467270001117, 'max_depth': 15, 'min_samples_split': 17, 'min_samples_leaf': 3, 'subsample': 0.6727299868828402, 'max_features': None}. Best is trial 0 with value: 5.5583158005865165.\n"
     ]
    },
    {
     "name": "stdout",
     "output_type": "stream",
     "text": [
      "🏃 View run orderly-owl-545 at: https://dbc-79ec72f9-c392.cloud.databricks.com/ml/experiments/530562432550975/runs/344fd90274e148939b341b0905030b2e\n",
      "🧪 View experiment at: https://dbc-79ec72f9-c392.cloud.databricks.com/ml/experiments/530562432550975\n"
     ]
    },
    {
     "name": "stderr",
     "output_type": "stream",
     "text": [
      "2025/10/25 17:25:08 WARNING mlflow.models.model: `artifact_path` is deprecated. Please use `name` instead.\n",
      "2025/10/25 17:25:14 WARNING mlflow.utils.environment: Failed to resolve installed pip version. ``pip`` will be added to conda.yaml environment spec without a version specifier.\n"
     ]
    },
    {
     "data": {
      "application/vnd.jupyter.widget-view+json": {
       "model_id": "256262034ed24897b7b7744f8c9b9da2",
       "version_major": 2,
       "version_minor": 0
      },
      "text/plain": [
       "Downloading artifacts:   0%|          | 0/7 [00:00<?, ?it/s]"
      ]
     },
     "metadata": {},
     "output_type": "display_data"
    },
    {
     "name": "stderr",
     "output_type": "stream",
     "text": [
      "2025/10/25 17:25:15 INFO mlflow.models.model: Found the following environment variables used during model inference: [DATABRICKS_HOST, DATABRICKS_TOKEN]. Please check if you need to set them when deploying the model. To disable this message, set environment variable `MLFLOW_RECORD_ENV_VARS_IN_MODEL_LOGGING` to `false`.\n",
      "[I 2025-10-25 17:25:19,322] Trial 2 finished with value: 8.843164321957916 and parameters: {'n_estimators': 250, 'learning_rate': 0.006109683510122491, 'max_depth': 10, 'min_samples_split': 4, 'min_samples_leaf': 3, 'subsample': 0.7465447373174767, 'max_features': 'log2'}. Best is trial 0 with value: 5.5583158005865165.\n"
     ]
    },
    {
     "name": "stdout",
     "output_type": "stream",
     "text": [
      "🏃 View run trusting-koi-131 at: https://dbc-79ec72f9-c392.cloud.databricks.com/ml/experiments/530562432550975/runs/48c0525942a94ceda5097da3701af63f\n",
      "🧪 View experiment at: https://dbc-79ec72f9-c392.cloud.databricks.com/ml/experiments/530562432550975\n"
     ]
    },
    {
     "name": "stderr",
     "output_type": "stream",
     "text": [
      "2025/10/25 17:25:26 WARNING mlflow.models.model: `artifact_path` is deprecated. Please use `name` instead.\n",
      "2025/10/25 17:25:31 WARNING mlflow.utils.environment: Failed to resolve installed pip version. ``pip`` will be added to conda.yaml environment spec without a version specifier.\n"
     ]
    },
    {
     "data": {
      "application/vnd.jupyter.widget-view+json": {
       "model_id": "800fb22eaae643fc87b77d3f48af1bfe",
       "version_major": 2,
       "version_minor": 0
      },
      "text/plain": [
       "Downloading artifacts:   0%|          | 0/7 [00:00<?, ?it/s]"
      ]
     },
     "metadata": {},
     "output_type": "display_data"
    },
    {
     "name": "stderr",
     "output_type": "stream",
     "text": [
      "2025/10/25 17:25:31 INFO mlflow.models.model: Found the following environment variables used during model inference: [DATABRICKS_HOST, DATABRICKS_TOKEN]. Please check if you need to set them when deploying the model. To disable this message, set environment variable `MLFLOW_RECORD_ENV_VARS_IN_MODEL_LOGGING` to `false`.\n",
      "[I 2025-10-25 17:25:33,760] Trial 3 finished with value: 8.536614581697073 and parameters: {'n_estimators': 300, 'learning_rate': 0.039710847107924725, 'max_depth': 3, 'min_samples_split': 13, 'min_samples_leaf': 2, 'subsample': 0.6260206371941118, 'max_features': 'log2'}. Best is trial 0 with value: 5.5583158005865165.\n"
     ]
    },
    {
     "name": "stdout",
     "output_type": "stream",
     "text": [
      "🏃 View run gaudy-colt-899 at: https://dbc-79ec72f9-c392.cloud.databricks.com/ml/experiments/530562432550975/runs/5c99d0737caa4a73a0defca3ed8289a8\n",
      "🧪 View experiment at: https://dbc-79ec72f9-c392.cloud.databricks.com/ml/experiments/530562432550975\n"
     ]
    },
    {
     "name": "stderr",
     "output_type": "stream",
     "text": [
      "2025/10/25 17:25:41 WARNING mlflow.models.model: `artifact_path` is deprecated. Please use `name` instead.\n",
      "2025/10/25 17:25:46 WARNING mlflow.utils.environment: Failed to resolve installed pip version. ``pip`` will be added to conda.yaml environment spec without a version specifier.\n"
     ]
    },
    {
     "data": {
      "application/vnd.jupyter.widget-view+json": {
       "model_id": "909ed40c02b44cefa1e28a8af66e4af5",
       "version_major": 2,
       "version_minor": 0
      },
      "text/plain": [
       "Downloading artifacts:   0%|          | 0/7 [00:00<?, ?it/s]"
      ]
     },
     "metadata": {},
     "output_type": "display_data"
    },
    {
     "name": "stderr",
     "output_type": "stream",
     "text": [
      "2025/10/25 17:25:47 INFO mlflow.models.model: Found the following environment variables used during model inference: [DATABRICKS_HOST, DATABRICKS_TOKEN]. Please check if you need to set them when deploying the model. To disable this message, set environment variable `MLFLOW_RECORD_ENV_VARS_IN_MODEL_LOGGING` to `false`.\n",
      "[I 2025-10-25 17:25:50,848] Trial 4 finished with value: 9.022007166858565 and parameters: {'n_estimators': 200, 'learning_rate': 0.0018349072049055448, 'max_depth': 11, 'min_samples_split': 10, 'min_samples_leaf': 2, 'subsample': 0.798070764044508, 'max_features': 'log2'}. Best is trial 0 with value: 5.5583158005865165.\n"
     ]
    },
    {
     "name": "stdout",
     "output_type": "stream",
     "text": [
      "🏃 View run dashing-hound-941 at: https://dbc-79ec72f9-c392.cloud.databricks.com/ml/experiments/530562432550975/runs/d16db68740844abf90c686c33a7751fb\n",
      "🧪 View experiment at: https://dbc-79ec72f9-c392.cloud.databricks.com/ml/experiments/530562432550975\n"
     ]
    },
    {
     "name": "stderr",
     "output_type": "stream",
     "text": [
      "2025/10/25 17:26:00 WARNING mlflow.models.model: `artifact_path` is deprecated. Please use `name` instead.\n",
      "2025/10/25 17:26:06 WARNING mlflow.utils.environment: Failed to resolve installed pip version. ``pip`` will be added to conda.yaml environment spec without a version specifier.\n"
     ]
    },
    {
     "data": {
      "application/vnd.jupyter.widget-view+json": {
       "model_id": "5dede279fc4b4453ab6a7a6adb32cbaa",
       "version_major": 2,
       "version_minor": 0
      },
      "text/plain": [
       "Downloading artifacts:   0%|          | 0/7 [00:00<?, ?it/s]"
      ]
     },
     "metadata": {},
     "output_type": "display_data"
    },
    {
     "name": "stderr",
     "output_type": "stream",
     "text": [
      "2025/10/25 17:26:06 INFO mlflow.models.model: Found the following environment variables used during model inference: [DATABRICKS_HOST, DATABRICKS_TOKEN]. Please check if you need to set them when deploying the model. To disable this message, set environment variable `MLFLOW_RECORD_ENV_VARS_IN_MODEL_LOGGING` to `false`.\n",
      "[I 2025-10-25 17:26:10,205] Trial 5 finished with value: 8.629424941346821 and parameters: {'n_estimators': 350, 'learning_rate': 0.006939031266619744, 'max_depth': 9, 'min_samples_split': 12, 'min_samples_leaf': 2, 'subsample': 0.9878338511058234, 'max_features': 'log2'}. Best is trial 0 with value: 5.5583158005865165.\n"
     ]
    },
    {
     "name": "stdout",
     "output_type": "stream",
     "text": [
      "🏃 View run amazing-sponge-741 at: https://dbc-79ec72f9-c392.cloud.databricks.com/ml/experiments/530562432550975/runs/6d699081b6384fb894021f2d5236d24b\n",
      "🧪 View experiment at: https://dbc-79ec72f9-c392.cloud.databricks.com/ml/experiments/530562432550975\n"
     ]
    },
    {
     "name": "stderr",
     "output_type": "stream",
     "text": [
      "2025/10/25 17:26:21 WARNING mlflow.models.model: `artifact_path` is deprecated. Please use `name` instead.\n",
      "2025/10/25 17:26:26 WARNING mlflow.utils.environment: Failed to resolve installed pip version. ``pip`` will be added to conda.yaml environment spec without a version specifier.\n"
     ]
    },
    {
     "data": {
      "application/vnd.jupyter.widget-view+json": {
       "model_id": "b99f031254b9440c8a8b012594fa4a4f",
       "version_major": 2,
       "version_minor": 0
      },
      "text/plain": [
       "Downloading artifacts:   0%|          | 0/7 [00:00<?, ?it/s]"
      ]
     },
     "metadata": {},
     "output_type": "display_data"
    },
    {
     "name": "stderr",
     "output_type": "stream",
     "text": [
      "2025/10/25 17:26:26 INFO mlflow.models.model: Found the following environment variables used during model inference: [DATABRICKS_HOST, DATABRICKS_TOKEN]. Please check if you need to set them when deploying the model. To disable this message, set environment variable `MLFLOW_RECORD_ENV_VARS_IN_MODEL_LOGGING` to `false`.\n",
      "[I 2025-10-25 17:26:29,268] Trial 6 finished with value: 5.438115737910744 and parameters: {'n_estimators': 300, 'learning_rate': 0.3076882474301538, 'max_depth': 4, 'min_samples_split': 5, 'min_samples_leaf': 1, 'subsample': 0.7301321323053057, 'max_features': None}. Best is trial 6 with value: 5.438115737910744.\n"
     ]
    },
    {
     "name": "stdout",
     "output_type": "stream",
     "text": [
      "🏃 View run abrasive-tern-254 at: https://dbc-79ec72f9-c392.cloud.databricks.com/ml/experiments/530562432550975/runs/c6e0e1f75e5d426c9450ac87d87985b4\n",
      "🧪 View experiment at: https://dbc-79ec72f9-c392.cloud.databricks.com/ml/experiments/530562432550975\n"
     ]
    },
    {
     "name": "stderr",
     "output_type": "stream",
     "text": [
      "2025/10/25 17:26:37 WARNING mlflow.models.model: `artifact_path` is deprecated. Please use `name` instead.\n",
      "2025/10/25 17:26:43 WARNING mlflow.utils.environment: Failed to resolve installed pip version. ``pip`` will be added to conda.yaml environment spec without a version specifier.\n"
     ]
    },
    {
     "data": {
      "application/vnd.jupyter.widget-view+json": {
       "model_id": "af1c3dd49e5e4a8caf7fab4702d94829",
       "version_major": 2,
       "version_minor": 0
      },
      "text/plain": [
       "Downloading artifacts:   0%|          | 0/7 [00:00<?, ?it/s]"
      ]
     },
     "metadata": {},
     "output_type": "display_data"
    },
    {
     "name": "stderr",
     "output_type": "stream",
     "text": [
      "2025/10/25 17:26:44 INFO mlflow.models.model: Found the following environment variables used during model inference: [DATABRICKS_HOST, DATABRICKS_TOKEN]. Please check if you need to set them when deploying the model. To disable this message, set environment variable `MLFLOW_RECORD_ENV_VARS_IN_MODEL_LOGGING` to `false`.\n",
      "[I 2025-10-25 17:26:47,901] Trial 7 finished with value: 8.354247714577198 and parameters: {'n_estimators': 200, 'learning_rate': 0.005731044951044763, 'max_depth': 10, 'min_samples_split': 4, 'min_samples_leaf': 9, 'subsample': 0.6298202574719083, 'max_features': 'sqrt'}. Best is trial 6 with value: 5.438115737910744.\n"
     ]
    },
    {
     "name": "stdout",
     "output_type": "stream",
     "text": [
      "🏃 View run suave-jay-929 at: https://dbc-79ec72f9-c392.cloud.databricks.com/ml/experiments/530562432550975/runs/25063936d3704ff9bd058ee4946020d7\n",
      "🧪 View experiment at: https://dbc-79ec72f9-c392.cloud.databricks.com/ml/experiments/530562432550975\n"
     ]
    },
    {
     "name": "stderr",
     "output_type": "stream",
     "text": [
      "2025/10/25 17:26:55 WARNING mlflow.models.model: `artifact_path` is deprecated. Please use `name` instead.\n",
      "2025/10/25 17:27:01 WARNING mlflow.utils.environment: Failed to resolve installed pip version. ``pip`` will be added to conda.yaml environment spec without a version specifier.\n"
     ]
    },
    {
     "data": {
      "application/vnd.jupyter.widget-view+json": {
       "model_id": "2591f6fcda234882af58d5c7601f0925",
       "version_major": 2,
       "version_minor": 0
      },
      "text/plain": [
       "Downloading artifacts:   0%|          | 0/7 [00:00<?, ?it/s]"
      ]
     },
     "metadata": {},
     "output_type": "display_data"
    },
    {
     "name": "stderr",
     "output_type": "stream",
     "text": [
      "2025/10/25 17:27:02 INFO mlflow.models.model: Found the following environment variables used during model inference: [DATABRICKS_HOST, DATABRICKS_TOKEN]. Please check if you need to set them when deploying the model. To disable this message, set environment variable `MLFLOW_RECORD_ENV_VARS_IN_MODEL_LOGGING` to `false`.\n",
      "[I 2025-10-25 17:27:04,783] Trial 8 finished with value: 5.4495353582478305 and parameters: {'n_estimators': 50, 'learning_rate': 0.15882027186184094, 'max_depth': 12, 'min_samples_split': 15, 'min_samples_leaf': 8, 'subsample': 0.6296178606936361, 'max_features': None}. Best is trial 6 with value: 5.438115737910744.\n"
     ]
    },
    {
     "name": "stdout",
     "output_type": "stream",
     "text": [
      "🏃 View run wistful-gull-95 at: https://dbc-79ec72f9-c392.cloud.databricks.com/ml/experiments/530562432550975/runs/9eacc52a34c148a2990770d13bbed4fa\n",
      "🧪 View experiment at: https://dbc-79ec72f9-c392.cloud.databricks.com/ml/experiments/530562432550975\n"
     ]
    },
    {
     "name": "stderr",
     "output_type": "stream",
     "text": [
      "2025/10/25 17:27:11 WARNING mlflow.models.model: `artifact_path` is deprecated. Please use `name` instead.\n",
      "2025/10/25 17:27:16 WARNING mlflow.utils.environment: Failed to resolve installed pip version. ``pip`` will be added to conda.yaml environment spec without a version specifier.\n"
     ]
    },
    {
     "data": {
      "application/vnd.jupyter.widget-view+json": {
       "model_id": "8a505b8fed0746208eb91d3ce189b811",
       "version_major": 2,
       "version_minor": 0
      },
      "text/plain": [
       "Downloading artifacts:   0%|          | 0/7 [00:00<?, ?it/s]"
      ]
     },
     "metadata": {},
     "output_type": "display_data"
    },
    {
     "name": "stderr",
     "output_type": "stream",
     "text": [
      "2025/10/25 17:27:16 INFO mlflow.models.model: Found the following environment variables used during model inference: [DATABRICKS_HOST, DATABRICKS_TOKEN]. Please check if you need to set them when deploying the model. To disable this message, set environment variable `MLFLOW_RECORD_ENV_VARS_IN_MODEL_LOGGING` to `false`.\n",
      "[I 2025-10-25 17:27:19,083] Trial 9 finished with value: 9.000186057603118 and parameters: {'n_estimators': 350, 'learning_rate': 0.007817787178411377, 'max_depth': 3, 'min_samples_split': 7, 'min_samples_leaf': 4, 'subsample': 0.8918424713352255, 'max_features': 'log2'}. Best is trial 6 with value: 5.438115737910744.\n"
     ]
    },
    {
     "name": "stdout",
     "output_type": "stream",
     "text": [
      "🏃 View run silent-stork-586 at: https://dbc-79ec72f9-c392.cloud.databricks.com/ml/experiments/530562432550975/runs/169536f1eb384e008a5631cbcb7c3dba\n",
      "🧪 View experiment at: https://dbc-79ec72f9-c392.cloud.databricks.com/ml/experiments/530562432550975\n",
      "\n",
      "Mejor RMSE encontrado: 5.4381\n",
      "Mejores Parámetros: {'n_estimators': 300, 'learning_rate': 0.3076882474301538, 'max_depth': 4, 'min_samples_split': 5, 'min_samples_leaf': 1, 'subsample': 0.7301321323053057, 'max_features': None}\n",
      "\n",
      "Entrenando y registrando el modelo final con los mejores parámetros...\n"
     ]
    },
    {
     "name": "stderr",
     "output_type": "stream",
     "text": [
      "2025/10/25 17:27:36 WARNING mlflow.utils.environment: Failed to resolve installed pip version. ``pip`` will be added to conda.yaml environment spec without a version specifier.\n"
     ]
    },
    {
     "data": {
      "application/vnd.jupyter.widget-view+json": {
       "model_id": "cfc303cbd5454aca83e46805c2ce3bfa",
       "version_major": 2,
       "version_minor": 0
      },
      "text/plain": [
       "Downloading artifacts:   0%|          | 0/7 [00:00<?, ?it/s]"
      ]
     },
     "metadata": {},
     "output_type": "display_data"
    },
    {
     "name": "stderr",
     "output_type": "stream",
     "text": [
      "2025/10/25 17:27:36 INFO mlflow.models.model: Found the following environment variables used during model inference: [DATABRICKS_HOST, DATABRICKS_TOKEN]. Please check if you need to set them when deploying the model. To disable this message, set environment variable `MLFLOW_RECORD_ENV_VARS_IN_MODEL_LOGGING` to `false`.\n"
     ]
    },
    {
     "name": "stdout",
     "output_type": "stream",
     "text": [
      "Modelo final registrado en MLflow.\n",
      "🏃 View run Gradient Boosting Regressor at: https://dbc-79ec72f9-c392.cloud.databricks.com/ml/experiments/530562432550975/runs/ea4eba19af22445db9c80f8c67f41ce9\n",
      "🧪 View experiment at: https://dbc-79ec72f9-c392.cloud.databricks.com/ml/experiments/530562432550975\n"
     ]
    }
   ],
   "source": [
    "# ------------------------------------------------------------\n",
    "# Configurar y Ejecutar la Optimización de Optuna\n",
    "# ------------------------------------------------------------\n",
    "\n",
    "sampler = TPESampler(seed=42)\n",
    "# direction=\"minimize\" porque queremos minimizar el RMSE\n",
    "study = optuna.create_study(direction=\"minimize\", sampler=sampler) \n",
    "\n",
    "# Run \"padre\" para agrupar toda la búsqueda de Optuna\n",
    "with mlflow.start_run(run_name=\"Gradient Boosting Regressor\"):\n",
    "    study.optimize(objective, n_trials=10) \n",
    "\n",
    "    # --------------------------------------------------------\n",
    "    # Registrar los mejores resultados en el run \"padre\"\n",
    "    # --------------------------------------------------------\n",
    "    best_params = study.best_params\n",
    "    best_rmse = study.best_value\n",
    "    \n",
    "    # Registrar métricas y parámetros finales en el run padre\n",
    "    mlflow.log_params(best_params)\n",
    "\n",
    "    mlflow.set_tags({\n",
    "        \"project\": \"NYC Taxi Time Prediction Project\",\n",
    "        \"optimizer_engine\": \"optuna\",\n",
    "        \"model_family\": \"GradientBoostingRegressor\",\n",
    "        \"feature_set_version\": 1,\n",
    "    })\n",
    "\n",
    "    mlflow.log_metric(\"best_rmse_test\", best_rmse)\n",
    "\n",
    "    pathlib.Path(\"preprocessor\").mkdir(exist_ok=True)\n",
    "    with open(\"preprocessor/preprocessor.b\", \"wb\") as f_out:\n",
    "        pickle.dump(dv, f_out)\n",
    "\n",
    "    mlflow.log_artifact(\"preprocessor/preprocessor.b\", artifact_path=\"preprocessor\")\n",
    "    \n",
    "    print(f\"\\nMejor RMSE encontrado: {best_rmse:.4f}\")\n",
    "    print(\"Mejores Parámetros:\", best_params)\n",
    "\n",
    "    # --------------------------------------------------------\n",
    "    # Reentrenar y registrar el modelo FINAL\n",
    "    # --------------------------------------------------------\n",
    "    print(\"\\nEntrenando y registrando el modelo final con los mejores parámetros...\")\n",
    "    final_model = GradientBoostingRegressor(**best_params)\n",
    "    final_model.fit(X_train, y_train)\n",
    "\n",
    "    # Predicción y registro de métrica final\n",
    "    y_pred = final_model.predict(X_val)\n",
    "    final_rmse = root_mean_squared_error(y_val, y_pred)\n",
    "\n",
    "    # Guardar el modelo final de forma explícita en el run padre\n",
    "    signature = infer_signature(X_val, y_pred)\n",
    "\n",
    "    mlflow.sklearn.log_model(\n",
    "        sk_model=final_model,\n",
    "        name=\"model\",\n",
    "        input_example=X_val[:5],\n",
    "        signature=signature,\n",
    "    \n",
    "    )\n",
    "    mlflow.log_metric(\"validation-rmse\", final_rmse)\n",
    "    print(\"Modelo final registrado en MLflow.\")"
   ]
  },
  {
   "cell_type": "code",
   "execution_count": 187,
   "id": "d39e1240",
   "metadata": {},
   "outputs": [
    {
     "name": "stderr",
     "output_type": "stream",
     "text": [
      "Registered model 'workspace.default.nyc-taxi-model' already exists. Creating a new version of this model...\n",
      "2025/10/25 17:32:41 WARNING mlflow.tracking._model_registry.fluent: Run with id ea4eba19af22445db9c80f8c67f41ce9 has no artifacts at artifact path 'model', registering model based on models:/m-3782908ec038404088bf469f519509f2 instead\n"
     ]
    },
    {
     "data": {
      "application/vnd.jupyter.widget-view+json": {
       "model_id": "9e4cf9f31b0b4d2ca409641b2d08faf3",
       "version_major": 2,
       "version_minor": 0
      },
      "text/plain": [
       "Downloading artifacts:   0%|          | 0/8 [00:00<?, ?it/s]"
      ]
     },
     "metadata": {},
     "output_type": "display_data"
    },
    {
     "data": {
      "application/vnd.jupyter.widget-view+json": {
       "model_id": "f8f3bb9ec33c4c43ae62b9fc1a4a91b8",
       "version_major": 2,
       "version_minor": 0
      },
      "text/plain": [
       "Uploading artifacts:   0%|          | 0/9 [00:00<?, ?it/s]"
      ]
     },
     "metadata": {},
     "output_type": "display_data"
    },
    {
     "name": "stderr",
     "output_type": "stream",
     "text": [
      "Created version '8' of model 'workspace.default.nyc-taxi-model'.\n"
     ]
    }
   ],
   "source": [
    "run_id = input(\"Ingrese el run_id\")\n",
    "run_uri = f\"runs:/{run_id}/model\"\n",
    "\n",
    "result = mlflow.register_model(\n",
    "    model_uri=run_uri,\n",
    "    name=\"workspace.default.nyc-taxi-model\"\n",
    ")"
   ]
  },
  {
   "cell_type": "markdown",
   "id": "7182373e",
   "metadata": {},
   "source": [
    "Evaluate and name the models:"
   ]
  },
  {
   "cell_type": "code",
   "execution_count": 188,
   "id": "5fa9f4ac",
   "metadata": {},
   "outputs": [],
   "source": [
    "from mlflow import MlflowClient\n",
    "import mlflow.pyfunc"
   ]
  },
  {
   "cell_type": "code",
   "execution_count": 189,
   "id": "e158caad",
   "metadata": {},
   "outputs": [],
   "source": [
    "model_name = \"workspace.default.nyc-taxi-model\" \n",
    "versions = [2, 5, 6]  \n",
    "metric_name = \"validation-rmse\""
   ]
  },
  {
   "cell_type": "code",
   "execution_count": 190,
   "id": "9820bd36",
   "metadata": {},
   "outputs": [],
   "source": [
    "client = MlflowClient()"
   ]
  },
  {
   "cell_type": "code",
   "execution_count": 191,
   "id": "2c8ee7ee",
   "metadata": {},
   "outputs": [
    {
     "name": "stdout",
     "output_type": "stream",
     "text": [
      "La version 8 del modelo nyc-taxi-model tiene un rmse de 5.98646478833004\n",
      "La version 7 del modelo nyc-taxi-model tiene un rmse de 5.930294509169692\n",
      "La version 6 del modelo nyc-taxi-model tiene un rmse de 5.994918174473722\n",
      "La version 5 del modelo nyc-taxi-model tiene un rmse de 5.931136039429667\n",
      "Advertencia: La versión 4 no tiene la métrica 'validation-rmse' registrada.\n",
      "La version 4 del modelo nyc-taxi-model tiene un rmse de 5.931136039429667\n",
      "Advertencia: La versión 3 no tiene la métrica 'validation-rmse' registrada.\n",
      "La version 3 del modelo nyc-taxi-model tiene un rmse de 5.931136039429667\n",
      "La version 2 del modelo nyc-taxi-model tiene un rmse de 5.862100491730689\n",
      "La version 1 del modelo nyc-taxi-model tiene un rmse de 5.862100491730689\n"
     ]
    }
   ],
   "source": [
    "versions_metadata = client.search_model_versions(f\"name='{model_name}'\")\n",
    "ranked_versions = []\n",
    "\n",
    "for version in versions_metadata:\n",
    "    run_id = version.run_id\n",
    "    try:\n",
    "        metric_value = client.get_run(run_id).data.metrics[metric_name]\n",
    "        ranked_versions.append([version._version, metric_value])\n",
    "    except KeyError:\n",
    "            print(f\"Advertencia: La versión {version._version} no tiene la métrica '{metric_name}' registrada.\")\n",
    "    print(f\"La version {version._version} del modelo nyc-taxi-model tiene un rmse de {metric_value}\")"
   ]
  },
  {
   "cell_type": "code",
   "execution_count": 192,
   "id": "ea2ad64d",
   "metadata": {},
   "outputs": [
    {
     "data": {
      "text/plain": [
       "[['2', 5.862100491730689],\n",
       " ['1', 5.862100491730689],\n",
       " ['7', 5.930294509169692],\n",
       " ['5', 5.931136039429667],\n",
       " ['8', 5.98646478833004],\n",
       " ['6', 5.994918174473722]]"
      ]
     },
     "execution_count": 192,
     "metadata": {},
     "output_type": "execute_result"
    }
   ],
   "source": [
    "ranked_versions = sorted(ranked_versions, key=lambda x: x[1])\n",
    "ranked_versions"
   ]
  },
  {
   "cell_type": "markdown",
   "id": "23708394",
   "metadata": {},
   "source": [
    "Let's add the aliases:"
   ]
  },
  {
   "cell_type": "code",
   "execution_count": 193,
   "id": "192b7e09",
   "metadata": {},
   "outputs": [],
   "source": [
    "champion = ranked_versions[0][0]\n",
    "challenger = ranked_versions[1][0]\n"
   ]
  },
  {
   "cell_type": "code",
   "execution_count": 194,
   "id": "273c9747",
   "metadata": {},
   "outputs": [
    {
     "name": "stdout",
     "output_type": "stream",
     "text": [
      "\n",
      "--- Asignando Nuevos Alias ---\n",
      "✅ Alias 'champion' asignado a la Versión 2.\n",
      "📢 Alias 'challenger' asignado a la Versión 1.\n"
     ]
    }
   ],
   "source": [
    "all_versions = client.search_model_versions(f\"name='{model_name}'\")\n",
    "\n",
    "print(\"\\n--- Asignando Nuevos Alias ---\")\n",
    "\n",
    "# 4. Asignar el Alias 'champion'\n",
    "client.set_registered_model_alias(\n",
    "    name=model_name, \n",
    "    alias='champion', \n",
    "    version=champion\n",
    ")\n",
    "print(f\"✅ Alias 'champion' asignado a la Versión {champion}.\")\n",
    "\n",
    "# 5. Asignar el Alias 'challenger'\n",
    "client.set_registered_model_alias(\n",
    "    name=model_name, \n",
    "    alias='challenger', \n",
    "    version=challenger\n",
    ")\n",
    "print(f\"📢 Alias 'challenger' asignado a la Versión {challenger}.\")"
   ]
  }
 ],
 "metadata": {
  "kernelspec": {
   "display_name": "nyc-taxi-predictions-2025",
   "language": "python",
   "name": "python3"
  },
  "language_info": {
   "codemirror_mode": {
    "name": "ipython",
    "version": 3
   },
   "file_extension": ".py",
   "mimetype": "text/x-python",
   "name": "python",
   "nbconvert_exporter": "python",
   "pygments_lexer": "ipython3",
   "version": "3.13.7"
  }
 },
 "nbformat": 4,
 "nbformat_minor": 5
}
